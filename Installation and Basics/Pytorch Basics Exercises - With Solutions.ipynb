{
 "cells": [
  {
   "cell_type": "markdown",
   "metadata": {},
   "source": [
    "## Pytorch Tensor Basics\n",
    "\n",
    "Tensor is a multi-dimensional matrix containing elements of a single data type. It designed to work with GPU more effeciently and it is only one standout when compare to numpy\n",
    "\n",
    "Here we will see \n",
    "\n",
    "1) How to create tensor from scratch<br>\n",
    "2) Convert Numpy Array to Tensor and vice versa<br>\n",
    "3) Tensor Operations "
   ]
  },
  {
   "cell_type": "markdown",
   "metadata": {},
   "source": [
    "#### Tensor Types\n",
    "\n",
    "Scalars are 0-D tensor (ex:6,7,\"ba\")<br>\n",
    "Vectors are 1-D tensors (ex: [3,5])<br>\n",
    "Matrices are 2-D tensors (ex: <br>\n",
    "[[3,5]<br>\n",
    "&nbsp; [4,8]])<br>\n",
    "N-Dimensional matrices are N-D tensors( ex: <br>\n",
    "[[[3,5],[7,5]]<br>\n",
    "[[3,5],[7,5]]])<br>\n",
    "                      \n"
   ]
  },
  {
   "cell_type": "code",
   "execution_count": 1,
   "metadata": {},
   "outputs": [],
   "source": [
    "import numpy as np\n",
    "import torch"
   ]
  },
  {
   "cell_type": "code",
   "execution_count": 2,
   "metadata": {},
   "outputs": [
    {
     "data": {
      "text/plain": [
       "'1.5.0'"
      ]
     },
     "execution_count": 2,
     "metadata": {},
     "output_type": "execute_result"
    }
   ],
   "source": [
    "torch.__version__"
   ]
  },
  {
   "cell_type": "markdown",
   "metadata": {},
   "source": [
    "#### Get/Set default data type of tensor"
   ]
  },
  {
   "cell_type": "code",
   "execution_count": 4,
   "metadata": {},
   "outputs": [
    {
     "data": {
      "text/plain": [
       "torch.float32"
      ]
     },
     "execution_count": 4,
     "metadata": {},
     "output_type": "execute_result"
    }
   ],
   "source": [
    "torch.get_default_dtype()"
   ]
  },
  {
   "cell_type": "code",
   "execution_count": 7,
   "metadata": {},
   "outputs": [
    {
     "data": {
      "text/plain": [
       "torch.float16"
      ]
     },
     "execution_count": 7,
     "metadata": {},
     "output_type": "execute_result"
    }
   ],
   "source": [
    "torch.set_default_dtype(torch.float16)\n",
    "torch.get_default_dtype()"
   ]
  },
  {
   "cell_type": "code",
   "execution_count": 8,
   "metadata": {},
   "outputs": [],
   "source": [
    "torch.set_default_dtype(torch.float32)"
   ]
  },
  {
   "cell_type": "markdown",
   "metadata": {},
   "source": [
    "#### Check whether given object is tensor"
   ]
  },
  {
   "cell_type": "code",
   "execution_count": 11,
   "metadata": {},
   "outputs": [
    {
     "data": {
      "text/plain": [
       "True"
      ]
     },
     "execution_count": 11,
     "metadata": {},
     "output_type": "execute_result"
    }
   ],
   "source": [
    "arr = torch.Tensor([[3,4,6,7],[5,6,8,9]])\n",
    "torch.is_tensor(arr)"
   ]
  },
  {
   "cell_type": "markdown",
   "metadata": {},
   "source": [
    "#### Compute number of elements in tensor"
   ]
  },
  {
   "cell_type": "code",
   "execution_count": 12,
   "metadata": {},
   "outputs": [
    {
     "data": {
      "text/plain": [
       "8"
      ]
     },
     "execution_count": 12,
     "metadata": {},
     "output_type": "execute_result"
    }
   ],
   "source": [
    "torch.numel(arr)"
   ]
  },
  {
   "cell_type": "markdown",
   "metadata": {},
   "source": [
    "#### Size/Shape of Tensor"
   ]
  },
  {
   "cell_type": "code",
   "execution_count": 15,
   "metadata": {},
   "outputs": [
    {
     "name": "stdout",
     "output_type": "stream",
     "text": [
      "torch.Size([2, 4])\n",
      "torch.Size([2, 4])\n"
     ]
    }
   ],
   "source": [
    "print(arr.size())\n",
    "print(arr.shape)"
   ]
  },
  {
   "cell_type": "markdown",
   "metadata": {},
   "source": [
    "#### Tensor vs tensor vs FloatTensor vs Type Specific Tensor\n",
    "\n",
    "'Tensor' is nothing but the alias of FloatTensor\n",
    "'tensor' chooses the type based on input values"
   ]
  },
  {
   "cell_type": "code",
   "execution_count": 42,
   "metadata": {},
   "outputs": [
    {
     "name": "stdout",
     "output_type": "stream",
     "text": [
      "torch.int64 torch.LongTensor\n"
     ]
    }
   ],
   "source": [
    "arr = torch.tensor([[3,4,6,7],[5,6,8,9]])\n",
    "print(arr.dtype,arr.type())"
   ]
  },
  {
   "cell_type": "code",
   "execution_count": 43,
   "metadata": {},
   "outputs": [
    {
     "name": "stdout",
     "output_type": "stream",
     "text": [
      "torch.float32 torch.FloatTensor\n"
     ]
    }
   ],
   "source": [
    "arr = torch.Tensor([[3,4,6,7],[5,6,8,9]])\n",
    "print(arr.dtype,arr.type())"
   ]
  },
  {
   "cell_type": "code",
   "execution_count": 51,
   "metadata": {},
   "outputs": [
    {
     "name": "stdout",
     "output_type": "stream",
     "text": [
      "torch.float32 torch.FloatTensor\n"
     ]
    }
   ],
   "source": [
    "arr = torch.tensor([[3.0,4,6,7],[5,6,8,9]])\n",
    "print(arr.dtype,arr.type())"
   ]
  },
  {
   "cell_type": "code",
   "execution_count": 52,
   "metadata": {},
   "outputs": [
    {
     "name": "stdout",
     "output_type": "stream",
     "text": [
      "torch.float16 torch.HalfTensor\n"
     ]
    }
   ],
   "source": [
    "arr = torch.tensor([[3.0,4,6,7],[5,6,8,9]],dtype=torch.half)\n",
    "print(arr.dtype,arr.type())"
   ]
  },
  {
   "cell_type": "code",
   "execution_count": 45,
   "metadata": {},
   "outputs": [
    {
     "name": "stdout",
     "output_type": "stream",
     "text": [
      "torch.int16 torch.ShortTensor\n"
     ]
    }
   ],
   "source": [
    "arr = torch.ShortTensor([[3,4,6,7],[5,6,8,9]])\n",
    "print(arr.dtype,arr.type())"
   ]
  },
  {
   "cell_type": "markdown",
   "metadata": {},
   "source": [
    "#### Change the Data Type of elements"
   ]
  },
  {
   "cell_type": "code",
   "execution_count": 40,
   "metadata": {},
   "outputs": [
    {
     "name": "stdout",
     "output_type": "stream",
     "text": [
      "torch.float32 torch.FloatTensor\n"
     ]
    }
   ],
   "source": [
    "arr = arr.type(torch.float32)\n",
    "print(arr.dtype,arr.type() )"
   ]
  },
  {
   "cell_type": "markdown",
   "metadata": {},
   "source": [
    "### Tensor Types\n",
    "<table style=\"display: inline-block\">\n",
    "<caption style=\"text-align: center\"><strong>Tensor Types</strong></caption>\n",
    "<tr><th>DataType</th><th>CPU tensor</th><th>GPU tensor</th></tr>\n",
    "<tr><td>torch.float32 or torch.float</td><td>torch.FloatTensor</td><td>torch.cuda.FloatTensor</td></tr>\n",
    "<tr><td>torch.float64 or torch.double</td><td>torch.DoubleTensor</td><td>torch.cuda.DoubleTensor</td></tr>\n",
    "<tr><td>torch.float16 or torch.half</td><td>torch.HalfTensor</td><td>torch.cuda.HalfTensor</td></tr>\n",
    "<tr><td>torch.uint8</td><td>torch.ByteTensor</td><td>torch.cuda.ByteTensor</td></tr>\n",
    "<tr><td>torch.int8</td><td>torch.CharTensor</td><td>torch.cuda.CharTensor</td></tr>\n",
    "<tr><td>torch.int16 or torch.short</sup></td><td>torch.ShortTensor</td><td>torch.cuda.ShortTensor</td></tr>\n",
    "\n",
    "<tr><td>torch.int32 or torch.int</td><td>torch.IntTensor</td><td>torch.cuda.IntTensor</td></tr>\n",
    "<tr><td>torch.int64 or torch.long</td><td>torch.LongTensor</td><td>torch.cuda.LongTensor</td></tr>\n",
    "<tr><td>torch.bool</sup></td><td>torch.BoolTensor</td><td>torch.cuda.BoolTensor</td></tr>\n",
    "<tr><td>&nbsp;</td><td></td><td></td></tr>\n",
    "</table>"
   ]
  },
  {
   "cell_type": "markdown",
   "metadata": {},
   "source": [
    "#### Clamp Tensor\n",
    "\n",
    "Clamp all elements in input into the range [ min, max ] and return a resulting tensor"
   ]
  },
  {
   "cell_type": "code",
   "execution_count": 54,
   "metadata": {},
   "outputs": [
    {
     "data": {
      "text/plain": [
       "tensor([[4., 4., 5., 5.],\n",
       "        [5., 5., 5., 5.]])"
      ]
     },
     "execution_count": 54,
     "metadata": {},
     "output_type": "execute_result"
    }
   ],
   "source": [
    "arr = torch.Tensor([[3,4,6,7],[5,6,8,9]])\n",
    "arr = torch.clamp(arr,4,5)\n",
    "arr"
   ]
  },
  {
   "cell_type": "markdown",
   "metadata": {},
   "source": [
    "#### Numpy to Tensor"
   ]
  },
  {
   "cell_type": "code",
   "execution_count": 58,
   "metadata": {},
   "outputs": [
    {
     "name": "stdout",
     "output_type": "stream",
     "text": [
      "[[0.30795413 0.87188764 0.12118643]\n",
      " [0.58364904 0.24250191 0.2358866 ]\n",
      " [0.93617457 0.8092996  0.82627865]] <class 'numpy.ndarray'>\n",
      "tensor([[0.3080, 0.8719, 0.1212],\n",
      "        [0.5836, 0.2425, 0.2359],\n",
      "        [0.9362, 0.8093, 0.8263]], dtype=torch.float64) <class 'torch.Tensor'>\n"
     ]
    }
   ],
   "source": [
    "narr = np.random.rand(3,3)\n",
    "arr = torch.from_numpy(narr)\n",
    "print(narr,type(narr))\n",
    "print(arr,type(arr))"
   ]
  },
  {
   "cell_type": "markdown",
   "metadata": {},
   "source": [
    "###### Convert to tensor(not new copy)  - Change in numpy array will also reflect in tensor"
   ]
  },
  {
   "cell_type": "code",
   "execution_count": 60,
   "metadata": {},
   "outputs": [
    {
     "name": "stdout",
     "output_type": "stream",
     "text": [
      "[[  0.30795413   0.87188764   0.12118643]\n",
      " [100.         100.         100.        ]\n",
      " [  0.93617457   0.8092996    0.82627865]] <class 'numpy.ndarray'>\n",
      "tensor([[  0.3080,   0.8719,   0.1212],\n",
      "        [100.0000, 100.0000, 100.0000],\n",
      "        [  0.9362,   0.8093,   0.8263]], dtype=torch.float64) <class 'torch.Tensor'>\n"
     ]
    }
   ],
   "source": [
    "narr[1] = 100\n",
    "print(narr,type(narr))\n",
    "print(arr,type(arr))"
   ]
  },
  {
   "cell_type": "markdown",
   "metadata": {},
   "source": [
    "#### Create a new copy of tensor from numpy\n",
    "\n"
   ]
  },
  {
   "cell_type": "code",
   "execution_count": 63,
   "metadata": {},
   "outputs": [
    {
     "name": "stdout",
     "output_type": "stream",
     "text": [
      "[[  0.74176641   0.15614806   0.70746879]\n",
      " [100.         100.         100.        ]\n",
      " [  0.98349834   0.53651889   0.30387185]] <class 'numpy.ndarray'>\n",
      "tensor([[0.7418, 0.1561, 0.7075],\n",
      "        [0.1275, 0.7222, 0.7927],\n",
      "        [0.9835, 0.5365, 0.3039]]) <class 'torch.Tensor'>\n"
     ]
    }
   ],
   "source": [
    "narr = np.random.rand(3,3)\n",
    "arr = torch.Tensor(narr)\n",
    "narr[1] = 100\n",
    "print(narr,type(narr))\n",
    "print(arr,type(arr))"
   ]
  },
  {
   "cell_type": "markdown",
   "metadata": {},
   "source": [
    "#### Returns a tensor filled with uninitialized data"
   ]
  },
  {
   "cell_type": "code",
   "execution_count": 65,
   "metadata": {},
   "outputs": [
    {
     "name": "stdout",
     "output_type": "stream",
     "text": [
      "tensor([[5.8239e+09, 2.4822e+00],\n",
      "        [1.0286e-38, 1.0653e-38]]) <class 'torch.Tensor'>\n",
      "tensor([[ 0.0000e+00,  0.0000e+00],\n",
      "        [-3.9741e-18,  4.5916e-41]]) <class 'torch.Tensor'>\n"
     ]
    }
   ],
   "source": [
    "arr = torch.Tensor(2,2)\n",
    "arrEmpty = torch.empty(2,2)\n",
    "print(arr,type(arr))\n",
    "print(arrEmpty,type(arrEmpty))"
   ]
  },
  {
   "cell_type": "markdown",
   "metadata": {},
   "source": [
    "#### Create zero, one matrix with data type"
   ]
  },
  {
   "cell_type": "code",
   "execution_count": 72,
   "metadata": {},
   "outputs": [
    {
     "name": "stdout",
     "output_type": "stream",
     "text": [
      "tensor([[0., 0., 0.],\n",
      "        [0., 0., 0.],\n",
      "        [0., 0., 0.]]) <class 'torch.Tensor'>\n",
      "tensor([[1., 1., 1.],\n",
      "        [1., 1., 1.],\n",
      "        [1., 1., 1.]], dtype=torch.float16) <class 'torch.Tensor'>\n",
      "tensor([[1., 1., 1.],\n",
      "        [1., 1., 1.],\n",
      "        [1., 1., 1.]], dtype=torch.float16) <class 'torch.Tensor'>\n"
     ]
    }
   ],
   "source": [
    "zeros = torch.zeros(3,3)\n",
    "ones = torch.ones(3,3, dtype=torch.float16)\n",
    "oneslike= torch.ones_like(ones) #derives the shape from input array\n",
    "print(zeros,type(zeros))\n",
    "print(ones,type(ones))\n",
    "print(oneslike,type(oneslike))"
   ]
  },
  {
   "cell_type": "markdown",
   "metadata": {},
   "source": [
    "#### Create Tensor based on ranges\n",
    "\n",
    "argmax - gets max index in array<br>\n",
    "argmin - get min index in array<br>\n",
    "argsort- returns indexes based on sorted value<br>\n",
    "sort - retuen list of sorted values and indexes"
   ]
  },
  {
   "cell_type": "code",
   "execution_count": 85,
   "metadata": {},
   "outputs": [
    {
     "name": "stdout",
     "output_type": "stream",
     "text": [
      "tensor([0, 1, 2, 3, 4, 5, 6, 7, 8]) <class 'torch.Tensor'>\n",
      "Argmax tensor(8)\n",
      "Argmin tensor(0)\n",
      "Argsort tensor([0, 1, 2, 3, 4, 5, 6, 7, 8])\n",
      "sort torch.return_types.sort(\n",
      "values=tensor([0, 1, 2, 3, 4, 5, 6, 7, 8]),\n",
      "indices=tensor([0, 1, 2, 3, 4, 5, 6, 7, 8]))\n",
      "tensor([[0, 1, 2],\n",
      "        [3, 4, 5],\n",
      "        [6, 7, 8]]) <class 'torch.Tensor'>\n"
     ]
    }
   ],
   "source": [
    "rangeTensor = torch.arange(0,9)\n",
    "print(rangeTensor,type(rangeTensor))\n",
    "print(\"Argmax\", rangeTensor.argmax())\n",
    "print(\"Argmin\", rangeTensor.argmin())\n",
    "print(\"Argsort\", rangeTensor.argsort())\n",
    "print(\"sort\", rangeTensor.sort())\n",
    "rangeTensor = rangeTensor.reshape(3,3)\n",
    "print(rangeTensor,type(rangeTensor))"
   ]
  },
  {
   "cell_type": "markdown",
   "metadata": {},
   "source": [
    "#### Create Evenly Space Distribution Tensor"
   ]
  },
  {
   "cell_type": "code",
   "execution_count": 88,
   "metadata": {},
   "outputs": [
    {
     "name": "stdout",
     "output_type": "stream",
     "text": [
      "tensor([ 0.0000,  5.5556, 11.1111, 16.6667, 22.2222, 27.7778, 33.3333, 38.8889,\n",
      "        44.4444, 50.0000]) <class 'torch.Tensor'>\n"
     ]
    }
   ],
   "source": [
    "arr = torch.linspace(0,50,10) #Gives 10 number between range 0 & 50\n",
    "print(arr,type(arr))"
   ]
  },
  {
   "cell_type": "markdown",
   "metadata": {},
   "source": [
    "#### Python list to Tensor"
   ]
  },
  {
   "cell_type": "code",
   "execution_count": 89,
   "metadata": {},
   "outputs": [
    {
     "data": {
      "text/plain": [
       "tensor([3., 6., 8., 9.])"
      ]
     },
     "execution_count": 89,
     "metadata": {},
     "output_type": "execute_result"
    }
   ],
   "source": [
    "torch.Tensor([3,6,8,9])"
   ]
  },
  {
   "cell_type": "markdown",
   "metadata": {},
   "source": [
    "#### Create Uniform distributed random number(means every number between 0 and 1 has a same probability of getting chosen)"
   ]
  },
  {
   "cell_type": "code",
   "execution_count": 91,
   "metadata": {},
   "outputs": [
    {
     "name": "stdout",
     "output_type": "stream",
     "text": [
      "tensor([[0.4997, 0.6042, 0.1572],\n",
      "        [0.7525, 0.8477, 0.0434],\n",
      "        [0.1848, 0.2037, 0.2908]]) <class 'torch.Tensor'>\n"
     ]
    }
   ],
   "source": [
    "arr = torch.rand(3,3)\n",
    "print(arr,type(arr))"
   ]
  },
  {
   "cell_type": "markdown",
   "metadata": {},
   "source": [
    "#### Standard Normal distribution random number(returns random values between -infinity and +inifinity. The random values would follow a normal distribution with a mean value 0 and a standard deviation 1.)"
   ]
  },
  {
   "cell_type": "code",
   "execution_count": 92,
   "metadata": {},
   "outputs": [
    {
     "name": "stdout",
     "output_type": "stream",
     "text": [
      "tensor([[-0.2873,  0.1830,  0.4637],\n",
      "        [ 0.3695, -0.0958, -0.9144],\n",
      "        [-1.3614, -2.4301, -1.1042]]) <class 'torch.Tensor'>\n"
     ]
    }
   ],
   "source": [
    "arr = torch.randn(3,3)\n",
    "print(arr,type(arr))"
   ]
  },
  {
   "cell_type": "markdown",
   "metadata": {},
   "source": [
    "#### Create a Random integer tensor"
   ]
  },
  {
   "cell_type": "code",
   "execution_count": 95,
   "metadata": {},
   "outputs": [
    {
     "name": "stdout",
     "output_type": "stream",
     "text": [
      "tensor([[6, 1, 5],\n",
      "        [4, 1, 2],\n",
      "        [6, 8, 6]]) <class 'torch.Tensor'>\n"
     ]
    }
   ],
   "source": [
    "arr = torch.randint(0,9,(3,3))\n",
    "print(arr,type(arr))"
   ]
  },
  {
   "cell_type": "markdown",
   "metadata": {},
   "source": [
    "##### Create random tensor with input size\n",
    "<a href='https://pytorch.org/docs/stable/torch.html#torch.rand_like'><strong><tt>torch.rand_like(input)</tt></strong></a><br>\n",
    "<a href='https://pytorch.org/docs/stable/torch.html#torch.randn_like'><strong><tt>torch.randn_like(input)</tt></strong></a><br>\n",
    "<a href='https://pytorch.org/docs/stable/torch.html#torch.randint_like'><strong><tt>torch.randint_like(input,low,high)</tt></strong></a><br> these return random number tensors with the same size as <tt>input</tt>"
   ]
  },
  {
   "cell_type": "code",
   "execution_count": 98,
   "metadata": {},
   "outputs": [
    {
     "data": {
      "text/plain": [
       "tensor([[2, 3, 1],\n",
       "        [6, 2, 2],\n",
       "        [7, 9, 8]])"
      ]
     },
     "execution_count": 98,
     "metadata": {},
     "output_type": "execute_result"
    }
   ],
   "source": [
    "torch.randint_like(arr,0,10)"
   ]
  },
  {
   "cell_type": "markdown",
   "metadata": {},
   "source": [
    "#### Seed with Random number - It gives the same random number every time(manual_seed)"
   ]
  },
  {
   "cell_type": "code",
   "execution_count": 103,
   "metadata": {},
   "outputs": [
    {
     "name": "stdout",
     "output_type": "stream",
     "text": [
      "tensor([[4, 0, 1],\n",
      "        [1, 2, 6],\n",
      "        [4, 7, 3]]) <class 'torch.Tensor'>\n"
     ]
    }
   ],
   "source": [
    "torch.manual_seed(50)\n",
    "arr = torch.randint(0,9,(3,3))\n",
    "print(arr,type(arr))"
   ]
  },
  {
   "cell_type": "markdown",
   "metadata": {},
   "source": [
    "#### Change the dimension of tensor using Squeeze/UnSqueeze\n",
    "\n",
    "Unsqueeze - Adds a new dimension to tensor<br>Squeeze - Removes the dimension from tensor"
   ]
  },
  {
   "cell_type": "code",
   "execution_count": 106,
   "metadata": {},
   "outputs": [
    {
     "data": {
      "text/plain": [
       "tensor([[0.9634, 0.1230, 0.4048],\n",
       "        [0.4985, 0.9987, 0.6049],\n",
       "        [0.5229, 0.6974, 0.2505]])"
      ]
     },
     "execution_count": 106,
     "metadata": {},
     "output_type": "execute_result"
    }
   ],
   "source": [
    "t1 = torch.rand(3,3)\n",
    "t1"
   ]
  },
  {
   "cell_type": "code",
   "execution_count": 107,
   "metadata": {},
   "outputs": [],
   "source": [
    "t2 = torch.unsqueeze(t1,2)"
   ]
  },
  {
   "cell_type": "code",
   "execution_count": 108,
   "metadata": {},
   "outputs": [
    {
     "data": {
      "text/plain": [
       "torch.Size([3, 3, 1])"
      ]
     },
     "execution_count": 108,
     "metadata": {},
     "output_type": "execute_result"
    }
   ],
   "source": [
    "t2.shape"
   ]
  },
  {
   "cell_type": "code",
   "execution_count": 109,
   "metadata": {},
   "outputs": [],
   "source": [
    "t3 = torch.squeeze(t2,2)"
   ]
  },
  {
   "cell_type": "code",
   "execution_count": 110,
   "metadata": {},
   "outputs": [
    {
     "data": {
      "text/plain": [
       "torch.Size([3, 3])"
      ]
     },
     "execution_count": 110,
     "metadata": {},
     "output_type": "execute_result"
    }
   ],
   "source": [
    "t3.shape"
   ]
  },
  {
   "cell_type": "markdown",
   "metadata": {},
   "source": [
    "### Device of tensor"
   ]
  },
  {
   "cell_type": "code",
   "execution_count": 111,
   "metadata": {},
   "outputs": [
    {
     "data": {
      "text/plain": [
       "device(type='cpu')"
      ]
     },
     "execution_count": 111,
     "metadata": {},
     "output_type": "execute_result"
    }
   ],
   "source": [
    "t1.device"
   ]
  },
  {
   "cell_type": "markdown",
   "metadata": {},
   "source": [
    "# Tensor Operations"
   ]
  },
  {
   "cell_type": "markdown",
   "metadata": {},
   "source": [
    "#### Slice row and column in Tensor(same like numpy)"
   ]
  },
  {
   "cell_type": "code",
   "execution_count": 114,
   "metadata": {},
   "outputs": [
    {
     "name": "stdout",
     "output_type": "stream",
     "text": [
      "Whole Tensor tensor([[0, 5, 5],\n",
      "        [6, 2, 5],\n",
      "        [7, 1, 3]]) torch.int64\n"
     ]
    }
   ],
   "source": [
    "arr = torch.randint(0,9,(3,3))\n",
    "print(\"Whole Tensor\", arr, arr.dtype )"
   ]
  },
  {
   "cell_type": "code",
   "execution_count": 121,
   "metadata": {},
   "outputs": [
    {
     "name": "stdout",
     "output_type": "stream",
     "text": [
      "Expected [7,1,3] tensor([[7, 1, 3]]) torch.int64\n",
      "Expected [[5],[3]] tensor([[5],\n",
      "        [3]]) torch.int64\n"
     ]
    }
   ],
   "source": [
    "print(\"Expected [7,1,3]\", arr[2:], arr.dtype )\n",
    "print(\"Expected [[5],[3]]\", arr[1:, 2:], arr.dtype )"
   ]
  },
  {
   "cell_type": "markdown",
   "metadata": {},
   "source": [
    "##### View vs Reshape - Both does the same thing. \n",
    "\n",
    "From Pytorch documentation\n",
    "\n",
    "PyTorch allows a tensor to be a View of an existing tensor. View tensor shares the same underlying data with its base tensor. Supporting View avoids explicit data copy, thus allows us to do fast and memory efficient reshaping, slicing and element-wise operations.\n",
    "\n"
   ]
  },
  {
   "cell_type": "code",
   "execution_count": 132,
   "metadata": {},
   "outputs": [
    {
     "name": "stdout",
     "output_type": "stream",
     "text": [
      "tensor([ 0,  1,  2,  3,  4,  5,  6,  7,  8,  9, 10, 11, 12, 13, 14, 15, 16, 17,\n",
      "        18, 19]) <class 'torch.Tensor'>\n",
      "view of (4,5) tensor([[ 0,  1,  2,  3,  4],\n",
      "        [ 5,  6,  7,  8,  9],\n",
      "        [10, 11, 12, 13, 14],\n",
      "        [15, 16, 17, 18, 19]]) <class 'torch.Tensor'>\n",
      "change the 1st index to 100 tensor([  0, 100,   2,   3,   4,   5,   6,   7,   8,   9,  10,  11,  12,  13,\n",
      "         14,  15,  16,  17,  18,  19]) <class 'torch.Tensor'>\n",
      "changed value  tensor([[  0, 100,   2,   3,   4],\n",
      "        [  5,   6,   7,   8,   9],\n",
      "        [ 10,  11,  12,  13,  14],\n",
      "        [ 15,  16,  17,  18,  19]]) <class 'torch.Tensor'>\n",
      "change the 1 row to 200 tensor([[  0, 100,   2,   3,   4],\n",
      "        [200, 200, 200, 200, 200],\n",
      "        [ 10,  11,  12,  13,  14],\n",
      "        [ 15,  16,  17,  18,  19]]) <class 'torch.Tensor'>\n",
      "changed value  tensor([  0, 100,   2,   3,   4, 200, 200, 200, 200, 200,  10,  11,  12,  13,\n",
      "         14,  15,  16,  17,  18,  19]) <class 'torch.Tensor'>\n"
     ]
    }
   ],
   "source": [
    "arr = torch.arange(20)\n",
    "print(arr,type(arr))\n",
    "\n",
    "viewarr = arr.view(4,5)\n",
    "print(\"view of (4,5)\",viewarr,type(viewarr))\n",
    "arr[1] = 100 #it changes the value in view refence too\n",
    "print(\"change the 1st index to 100\",arr,type(arr))\n",
    "print(\"changed value \",viewarr,type(viewarr)) \n",
    "viewarr[1] = 200\n",
    "print(\"change the 1 row to 200\",viewarr,type(viewarr)) \n",
    "print(\"changed value \",arr,type(arr))"
   ]
  },
  {
   "cell_type": "markdown",
   "metadata": {},
   "source": [
    "##### View this tensor as the same size as other tensor(view_as)"
   ]
  },
  {
   "cell_type": "code",
   "execution_count": 134,
   "metadata": {},
   "outputs": [
    {
     "data": {
      "text/plain": [
       "tensor([[  0, 100,   2,   3,   4],\n",
       "        [200, 200, 200, 200, 200],\n",
       "        [ 10,  11,  12,  13,  14],\n",
       "        [ 15,  16,  17,  18,  19]])"
      ]
     },
     "execution_count": 134,
     "metadata": {},
     "output_type": "execute_result"
    }
   ],
   "source": [
    "arr.view_as(viewarr)"
   ]
  },
  {
   "cell_type": "markdown",
   "metadata": {},
   "source": [
    "#### Transpose the tensor"
   ]
  },
  {
   "cell_type": "code",
   "execution_count": 5,
   "metadata": {},
   "outputs": [
    {
     "name": "stdout",
     "output_type": "stream",
     "text": [
      "Expected size (4,5) tensor([[ 0,  4,  8, 12, 16],\n",
      "        [ 1,  5,  9, 13, 17],\n",
      "        [ 2,  6, 10, 14, 18],\n",
      "        [ 3,  7, 11, 15, 19]]) torch.Size([4, 5])\n",
      "Expected size (4,5) tensor([[ 0,  4,  8, 12, 16],\n",
      "        [ 1,  5,  9, 13, 17],\n",
      "        [ 2,  6, 10, 14, 18],\n",
      "        [ 3,  7, 11, 15, 19]]) torch.Size([4, 5])\n"
     ]
    }
   ],
   "source": [
    "arr = torch.arange(20).reshape(5,4)\n",
    "transposearr = arr.transpose(0,1) \n",
    "print(\"Expected size (4,5)\", transposearr,transposearr.shape )\n",
    "transposearr = torch.transpose(arr,0,1) \n",
    "print(\"Expected size (4,5)\", transposearr,transposearr.shape )"
   ]
  },
  {
   "cell_type": "markdown",
   "metadata": {},
   "source": [
    "#### Unbind tensor into different tuple of tensors"
   ]
  },
  {
   "cell_type": "code",
   "execution_count": 6,
   "metadata": {},
   "outputs": [
    {
     "name": "stdout",
     "output_type": "stream",
     "text": [
      "tensor([[ 0,  1,  2,  3],\n",
      "        [ 4,  5,  6,  7],\n",
      "        [ 8,  9, 10, 11],\n",
      "        [12, 13, 14, 15],\n",
      "        [16, 17, 18, 19]]) <class 'torch.Tensor'>\n"
     ]
    },
    {
     "data": {
      "text/plain": [
       "(tensor([0, 1, 2, 3]),\n",
       " tensor([4, 5, 6, 7]),\n",
       " tensor([ 8,  9, 10, 11]),\n",
       " tensor([12, 13, 14, 15]),\n",
       " tensor([16, 17, 18, 19]))"
      ]
     },
     "execution_count": 6,
     "metadata": {},
     "output_type": "execute_result"
    }
   ],
   "source": [
    "arr = torch.arange(20).reshape(5,4)\n",
    "print(arr,type(arr))\n",
    "torch.unbind(arr)"
   ]
  },
  {
   "cell_type": "markdown",
   "metadata": {},
   "source": [
    "#### Infer Tensor with Views(means view can identify either X or Y shape based on number of element and X/Y shape)"
   ]
  },
  {
   "cell_type": "code",
   "execution_count": 9,
   "metadata": {},
   "outputs": [
    {
     "name": "stdout",
     "output_type": "stream",
     "text": [
      "tensor([[ 0,  1,  2,  3],\n",
      "        [ 4,  5,  6,  7],\n",
      "        [ 8,  9, 10, 11],\n",
      "        [12, 13, 14, 15],\n",
      "        [16, 17, 18, 19]])\n",
      "tensor([[ 0,  1,  2,  3,  4],\n",
      "        [ 5,  6,  7,  8,  9],\n",
      "        [10, 11, 12, 13, 14],\n",
      "        [15, 16, 17, 18, 19]])\n"
     ]
    }
   ],
   "source": [
    "arr = torch.arange(20)\n",
    "\n",
    "#just pass -1 in place of dimension it can infer it..\n",
    "print(arr.view(5,-1))\n",
    "print(arr.view(-1,5))"
   ]
  },
  {
   "cell_type": "markdown",
   "metadata": {},
   "source": [
    "### Arthimetic Operations"
   ]
  },
  {
   "cell_type": "code",
   "execution_count": 11,
   "metadata": {},
   "outputs": [
    {
     "name": "stdout",
     "output_type": "stream",
     "text": [
      "tensor([[6., 7., 8.],\n",
      "        [7., 8., 9.]])\n"
     ]
    }
   ],
   "source": [
    "a = torch.tensor([[1,2,3],[1,2,3]], dtype=torch.float)\n",
    "b = torch.tensor([[5,5,5],[6,6,6]], dtype=torch.float)\n",
    "print(a + b)"
   ]
  },
  {
   "cell_type": "code",
   "execution_count": 12,
   "metadata": {},
   "outputs": [
    {
     "data": {
      "text/plain": [
       "tensor([[ 5., 10., 15.],\n",
       "        [ 6., 12., 18.]])"
      ]
     },
     "execution_count": 12,
     "metadata": {},
     "output_type": "execute_result"
    }
   ],
   "source": [
    "torch.mul(a,b)"
   ]
  },
  {
   "cell_type": "markdown",
   "metadata": {},
   "source": [
    "#### In-place operations"
   ]
  },
  {
   "cell_type": "code",
   "execution_count": 16,
   "metadata": {},
   "outputs": [
    {
     "name": "stdout",
     "output_type": "stream",
     "text": [
      "tensor([[0.1250, 0.2500, 0.3750],\n",
      "        [0.1250, 0.2500, 0.3750]])\n",
      "tensor([[0.0625, 0.1250, 0.1875],\n",
      "        [0.0625, 0.1250, 0.1875]])\n"
     ]
    }
   ],
   "source": [
    "print(a)\n",
    "#underscore function for in-place change\n",
    "a.div_(2) #same as a = a.div(2)\n",
    "print(a)"
   ]
  },
  {
   "cell_type": "markdown",
   "metadata": {},
   "source": [
    "#### Out tensor as argument"
   ]
  },
  {
   "cell_type": "code",
   "execution_count": 17,
   "metadata": {},
   "outputs": [
    {
     "name": "stdout",
     "output_type": "stream",
     "text": [
      "tensor([[5.0625, 5.1250, 5.1875],\n",
      "        [6.0625, 6.1250, 6.1875]])\n"
     ]
    }
   ],
   "source": [
    "result = torch.empty(4)\n",
    "torch.add(a, b, out=result)  # equivalent to result=torch.add(a,b)\n",
    "print(result)"
   ]
  },
  {
   "cell_type": "markdown",
   "metadata": {},
   "source": [
    "#### Chunk vs Cat\n",
    "\n",
    "chunks - Splits a tensor into a specific number of chunks<br>\n",
    "cat - merge chunks into one tensor"
   ]
  },
  {
   "cell_type": "code",
   "execution_count": 35,
   "metadata": {},
   "outputs": [
    {
     "name": "stdout",
     "output_type": "stream",
     "text": [
      "tensor([[0, 1, 2],\n",
      "        [3, 4, 5],\n",
      "        [6, 7, 8]])\n",
      "(tensor([[0, 1, 2]]), tensor([[3, 4, 5]]), tensor([[6, 7, 8]])) (tensor([[0],\n",
      "        [3],\n",
      "        [6]]), tensor([[1],\n",
      "        [4],\n",
      "        [7]]), tensor([[2],\n",
      "        [5],\n",
      "        [8]]))\n"
     ]
    }
   ],
   "source": [
    "arr= torch.arange(0,9).reshape(3,3)\n",
    "print(arr)\n",
    "rowchunk = torch.chunk(arr, 3, 0)\n",
    "colchunk = torch.chunk(arr, 3, 1)\n",
    "print(rowchunk,colchunk)"
   ]
  },
  {
   "cell_type": "code",
   "execution_count": 37,
   "metadata": {},
   "outputs": [
    {
     "data": {
      "text/plain": [
       "tensor([[0, 1, 2],\n",
       "        [3, 4, 5],\n",
       "        [6, 7, 8],\n",
       "        [8, 9, 5]])"
      ]
     },
     "execution_count": 37,
     "metadata": {},
     "output_type": "execute_result"
    }
   ],
   "source": [
    "newTensor= torch.tensor([[8, 9, 5]])\n",
    "torch.cat((rowchunk[0], rowchunk[1],rowchunk[2], newTensor), 0)"
   ]
  },
  {
   "cell_type": "markdown",
   "metadata": {},
   "source": [
    "### Other Tensor Operations\n",
    "<table style=\"display: inline-block\">\n",
    "<caption style=\"text-align: center\"><strong>Arithmetic</strong></caption>\n",
    "<tr><th>OPERATION</th><th>FUNCTION</th><th>DESCRIPTION</th></tr>\n",
    "<tr><td>a + b</td><td>a.add(b)</td><td>element wise addition</td></tr>\n",
    "<tr><td>a - b</td><td>a.sub(b)</td><td>subtraction</td></tr>\n",
    "<tr><td>a * b</td><td>a.mul(b)</td><td>multiplication</td></tr>\n",
    "<tr><td>a / b</td><td>a.div(b)</td><td>division</td></tr>\n",
    "<tr><td>a % b</td><td>a.fmod(b)</td><td>modulo (remainder after division)</td></tr>\n",
    "<tr><td>a<sup>b</sup></td><td>a.pow(b)</td><td>power</td></tr>\n",
    "<tr><td>&nbsp;</td><td></td><td></td></tr>\n",
    "</table>"
   ]
  },
  {
   "cell_type": "markdown",
   "metadata": {},
   "source": [
    "<table style=\"display: inline-block\">\n",
    "<caption style=\"text-align: center\"><strong>Monomial Operations</strong></caption>\n",
    "<tr><th>OPERATION</th><th>FUNCTION</th><th>DESCRIPTION</th></tr>\n",
    "<tr><td>|a|</td><td>torch.abs(a)</td><td>absolute value</td></tr>\n",
    "<tr><td>1/a</td><td>torch.reciprocal(a)</td><td>reciprocal</td></tr>\n",
    "<tr><td>$\\sqrt{a}$</td><td>torch.sqrt(a)</td><td>square root</td></tr>\n",
    "<tr><td>log(a)</td><td>torch.log(a)</td><td>natural log</td></tr>\n",
    "<tr><td>e<sup>a</sup></td><td>torch.exp(a)</td><td>exponential</td></tr>\n",
    "<tr><td>12.34  ==>  12.</td><td>torch.trunc(a)</td><td>truncated integer</td></tr>\n",
    "<tr><td>12.34  ==>  0.34</td><td>torch.frac(a)</td><td>fractional component</td></tr>\n",
    "</table>"
   ]
  },
  {
   "cell_type": "markdown",
   "metadata": {},
   "source": [
    "<table style=\"display: inline-block\">\n",
    "<caption style=\"text-align: center\"><strong>Trigonometry</strong></caption>\n",
    "<tr><th>OPERATION</th><th>FUNCTION</th><th>DESCRIPTION</th></tr>\n",
    "<tr><td>sin(a)</td><td>torch.sin(a)</td><td>sine</td></tr>\n",
    "<tr><td>cos(a)</td><td>torch.sin(a)</td><td>cosine</td></tr>\n",
    "<tr><td>tan(a)</td><td>torch.sin(a)</td><td>tangent</td></tr>\n",
    "<tr><td>arcsin(a)</td><td>torch.asin(a)</td><td>arc sine</td></tr>\n",
    "<tr><td>arccos(a)</td><td>torch.acos(a)</td><td>arc cosine</td></tr>\n",
    "<tr><td>arctan(a)</td><td>torch.atan(a)</td><td>arc tangent</td></tr>\n",
    "<tr><td>sinh(a)</td><td>torch.sinh(a)</td><td>hyperbolic sine</td></tr>\n",
    "<tr><td>cosh(a)</td><td>torch.cosh(a)</td><td>hyperbolic cosine</td></tr>\n",
    "<tr><td>tanh(a)</td><td>torch.tanh(a)</td><td>hyperbolic tangent</td></tr>\n",
    "</table>"
   ]
  },
  {
   "cell_type": "markdown",
   "metadata": {},
   "source": [
    "## Matrix Muliplication vs Dot\n",
    "\n",
    "<b>Dot Product</b>\n",
    "A <a href='https://en.wikipedia.org/wiki/Dot_product'>dot product</a> is the sum of the products of the corresponding entries of two 1D tensors. If the tensors are both vectors, the dot product is given as:<br>\n",
    "\n",
    "$\\begin{bmatrix} a & b & c \\end{bmatrix} \\;\\cdot\\; \\begin{bmatrix} d & e & f \\end{bmatrix} = ad + be + cf$\n",
    "\n",
    "If the tensors include a column vector, then the dot product is the sum of the result of the multiplied matrices. For example:<br>\n",
    "$\\begin{bmatrix} a & b & c \\end{bmatrix} \\;\\cdot\\; \\begin{bmatrix} d \\\\ e \\\\ f \\end{bmatrix} = ad + be + cf$<br><br>\n",
    "Dot products can be expressed as <a href='https://pytorch.org/docs/stable/torch.html#torch.dot'><strong><tt>torch.dot(a,b)</tt></strong></a> or `a.dot(b)` or `b.dot(a)`\n",
    "\n",
    "<b>Matrix multiplication</b>\n",
    "2D Matrix multiplication is possible when the number of columns in tensor <strong><tt>A</tt></strong> matches the number of rows in tensor <strong><tt>B</tt></strong>. In this case, the product of tensor <strong><tt>A</tt></strong> with size $(x,y)$ and tensor <strong><tt>B</tt></strong> with size $(y,z)$ results in a tensor of size $(x,z)$\n",
    "<div>\n",
    "<div align=\"left\"><img src='../Images/matrixmultiply.png' align=\"left\"><br><br>\n",
    "\n",
    "Matrix multiplication can be computed using <a href='https://pytorch.org/docs/stable/torch.html#torch.mm'><strong><tt>torch.mm(a,b)</tt></strong></a> or `a.mm(b)` or `a @ b`"
   ]
  },
  {
   "cell_type": "code",
   "execution_count": 40,
   "metadata": {},
   "outputs": [
    {
     "name": "stdout",
     "output_type": "stream",
     "text": [
      "tensor([ 4., 10., 18.])\n",
      "tensor(32.)\n"
     ]
    }
   ],
   "source": [
    "x = torch.tensor([1,2,3], dtype=torch.float)\n",
    "y = torch.tensor([4,5,6], dtype=torch.float)\n",
    "print(x.mul(y)) \n",
    "print(x.dot(y))"
   ]
  },
  {
   "cell_type": "code",
   "execution_count": 54,
   "metadata": {},
   "outputs": [
    {
     "name": "stdout",
     "output_type": "stream",
     "text": [
      "Matrix Multiplication Expected  5X6 tensor([[  84,   90,   96,  102,  108,  114],\n",
      "        [ 228,  250,  272,  294,  316,  338],\n",
      "        [ 372,  410,  448,  486,  524,  562],\n",
      "        [ 516,  570,  624,  678,  732,  786],\n",
      "        [ 660,  730,  800,  870,  940, 1010]]) torch.Size([5, 6])\n",
      "Matrix Vector Multiplication tensor([ 14,  38,  62,  86, 110])\n"
     ]
    }
   ],
   "source": [
    "x = torch.arange(0,20).reshape(5,4)\n",
    "y = torch.arange(0,24).reshape(4,6)\n",
    "\n",
    "z= x.mm(y)\n",
    "print(\"Matrix Multiplication Expected  5X6\", z, z.shape)\n",
    "\n",
    "x1 = torch.arange(0,4)\n",
    "print(\"Matrix Vector Multiplication\", x.mv(x1))"
   ]
  },
  {
   "cell_type": "markdown",
   "metadata": {},
   "source": [
    "#### fill the tensor"
   ]
  },
  {
   "cell_type": "code",
   "execution_count": 56,
   "metadata": {},
   "outputs": [
    {
     "data": {
      "text/plain": [
       "tensor([[5, 5],\n",
       "        [5, 5]])"
      ]
     },
     "execution_count": 56,
     "metadata": {},
     "output_type": "execute_result"
    }
   ],
   "source": [
    "arr = torch.arange(0,4)\n",
    "arr.new_full([2, 2], fill_value=5)"
   ]
  },
  {
   "cell_type": "markdown",
   "metadata": {},
   "source": [
    "#### Refereces\n",
    "\n",
    "https://pytorch.org/docs/stable/tensors.html"
   ]
  }
 ],
 "metadata": {
  "kernelspec": {
   "display_name": "Python 3",
   "language": "python",
   "name": "python3"
  },
  "language_info": {
   "codemirror_mode": {
    "name": "ipython",
    "version": 3
   },
   "file_extension": ".py",
   "mimetype": "text/x-python",
   "name": "python",
   "nbconvert_exporter": "python",
   "pygments_lexer": "ipython3",
   "version": "3.7.7"
  }
 },
 "nbformat": 4,
 "nbformat_minor": 4
}
